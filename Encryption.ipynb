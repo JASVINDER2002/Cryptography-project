{
 "cells": [
  {
   "cell_type": "code",
   "execution_count": 5,
   "id": "f369c7c3-0b77-4119-b520-65b859478bdf",
   "metadata": {},
   "outputs": [
    {
     "name": "stdin",
     "output_type": "stream",
     "text": [
      "entre the plaintext SRUNIVERSITY\n"
     ]
    },
    {
     "name": "stdout",
     "output_type": "stream",
     "text": [
      "12 33 54 11 15 53 44 33 12 15 42 13 \n"
     ]
    }
   ],
   "source": [
    "from string import ascii_uppercase as alphabet\n",
    "def Encryption_Caesar(message, key):\n",
    "    encrypted_message = ' '\n",
    "\n",
    "    for letter in message:\n",
    "        # Here we check if a letter is uppercase and then we transport it\n",
    "        if letter.isupper():\n",
    "\n",
    "            letter_index = ord(letter) - ord('A')\n",
    "            letter_shifted = (letter_index + key) % 26 + ord('A')\n",
    "\n",
    "            letter_new = chr(letter_shifted)\n",
    "            encrypted_message += letter_new\n",
    "\n",
    "        # Here we check if a letter is lowercase\n",
    "        elif letter.islower():\n",
    "\n",
    "            # check if it's an lowercase character and then we transport it\n",
    "            letter_index = ord(letter) - ord('a')\n",
    "            letter_shifted = (letter_index + key) % 26 + ord('a')\n",
    "\n",
    "            letter_new = chr(letter_shifted)\n",
    "            encrypted_message += letter_new\n",
    "\n",
    "        # Here we check if we have a digit and then we transport it\n",
    "        elif letter.isdigit():\n",
    "\n",
    "            \"\"\"\n",
    "            If it's a number then we shift it the key value\n",
    "            For example if we have the number 3 and our key is 5 then the new number will be 8\n",
    "            \"\"\"\n",
    "\n",
    "            letter_new = (int(letter) + key) % 10\n",
    "            encrypted_message += str(letter_new)\n",
    "\n",
    "        elif letter.isspace():\n",
    "\n",
    "            encrypted_message += ' '\n",
    "\n",
    "        # Here we check if we have a punctuation and then we transport it\n",
    "        else:\n",
    "\n",
    "            \"\"\"\"\n",
    "            The total number of the punctuation are 32\n",
    "            It shifts the punctuation key values according to ASCII table\n",
    "            If you are confused check the ASCII table\n",
    "            \"\"\"\n",
    "\n",
    "            letter_index = ord(letter) - ord('!')\n",
    "            letter_shifted = (letter_index + key) % 32 + ord('!')\n",
    "            letter_new = chr(letter_shifted)\n",
    "            encrypted_message += letter_new\n",
    "\n",
    "    return encrypted_message\n",
    "\n",
    "def encoding(text):\n",
    "    text, finished_text = text.upper(), \"\"\n",
    "    for symbol in text:\n",
    "        if symbol in alphabet:\n",
    "            finished_text += str(codes_table(symbol)) + \" \"\n",
    "\n",
    "    return finished_text\n",
    "\n",
    "def codes_table(char):\n",
    "    table = {\n",
    "        \"A\": 11, \"B\": 41, \"C\": 35, \"D\": 34, \"E\": 33,\n",
    "        \"F\": 12, \"G\": 42, \"H\": 54, \"I\": 53, \"K\": 32,\n",
    "        \"L\": 13, \"M\": 43, \"N\": 55, \"O\": 52, \"P\": 31,\n",
    "        \"Q\": 14, \"R\": 44, \"S\": 45, \"T\": 51, \"U\": 25,\n",
    "        \"V\": 15, \"W\": 21, \"X\": 22, \"Y\": 23, \"Z\": 24, \"J\": 0,\n",
    "\n",
    "        11: \"A\", 41: \"B\", 35: \"C\", 34: \"D\", 33: \"E\",\n",
    "        12: \"F\", 42: \"G\", 54: \"H\", 53: \"I\", 32: \"K\",\n",
    "        13: \"L\", 43: \"M\", 55: \"N\", 52: \"O\", 31: \"P\",\n",
    "        14: \"Q\", 44: \"R\", 45: \"S\", 51: \"T\", 25: \"U\",\n",
    "        15: \"V\", 21: \"W\", 22: \"X\", 23: \"Y\", 24: \"Z\", 0: \"J\"\n",
    "    }\n",
    "\n",
    "    return table[char]\n",
    "\n",
    "def main():\n",
    "   # keyword=str(input(\"ENTRE THE KEY:-\"))\n",
    "    message=str(input(\"entre the plaintext\"))\n",
    "    key = 13\n",
    "    ultimate_ciphertext=Encryption_Caesar(message,key)\n",
    "    finished_text =encoding( ultimate_ciphertext)\n",
    "    print(finished_text)\n",
    "\n",
    "if __name__ == '__main__':\n",
    "    main()"
   ]
  },
  {
   "cell_type": "code",
   "execution_count": null,
   "id": "600fd207-0c8d-4395-8374-5582f9fc20cd",
   "metadata": {},
   "outputs": [],
   "source": []
  }
 ],
 "metadata": {
  "kernelspec": {
   "display_name": "Python 3 (ipykernel)",
   "language": "python",
   "name": "python3"
  },
  "language_info": {
   "codemirror_mode": {
    "name": "ipython",
    "version": 3
   },
   "file_extension": ".py",
   "mimetype": "text/x-python",
   "name": "python",
   "nbconvert_exporter": "python",
   "pygments_lexer": "ipython3",
   "version": "3.10.0"
  }
 },
 "nbformat": 4,
 "nbformat_minor": 5
}
